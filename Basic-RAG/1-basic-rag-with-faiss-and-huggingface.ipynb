{
 "cells": [
  {
   "cell_type": "markdown",
   "metadata": {},
   "source": [
    "# Sentence Transformers ve FAISS ile Retrieval-Augmented Generation (RAG)  \n",
    "\n",
    "Bu projede, **Sentence Transformers** ve **FAISS** kullanılarak, bilgiye dayalı metin üretimi için **Retrieval-Augmented Generation (RAG)** sistemi oluşturulmuştur. Proje kapsamında, verilen metinlere benzer içerikleri bulup kullanarak daha doğru ve bağlamsal olarak anlamlı metin üretimi gerçekleştirilmiştir.  \n",
    "\n",
    "## Kullanılan Teknolojiler  \n",
    "\n",
    "- **Sentence Transformers**: Metinleri vektörlere dönüştürerek anlam tabanlı benzerlik karşılaştırmaları yapar.  \n",
    "- **FAISS**: Büyük ölçekli vektör arama işlemlerini optimize eden verimli bir benzerlik arama kütüphanesi.  \n",
    "- **Transformers**: Metin üretimi için **FLAN-T5** modeli kullanılarak yanıt oluşturma işlemleri gerçekleştirilmiştir.  \n",
    "\n",
    "## Çalışma Mantığı  \n",
    "\n",
    "1. **Metinlerden Vektör Üretimi**: **all-MiniLM-L6-v2** modeli kullanılarak metinlerin vektör temsilleri oluşturulmuştur.  \n",
    "2. **Anlam Benzerliği ile Arama**: FAISS kullanılarak, girilen bir metinle en alakalı içerikler hızlıca bulunmuştur.  \n",
    "3. **Üretim Aşaması**: **FLAN-T5** modeli, getirilen en alakalı metinleri kullanarak yeni metinler üretmiştir.  \n",
    "\n",
    "## Kullanılan Donanım  \n",
    "\n",
    "- **Kaggle Notebook - GPU: Tesla P100**  "
   ]
  },
  {
   "cell_type": "markdown",
   "metadata": {},
   "source": [
    "![](../imgs/How-does-RAG-work_.webp)"
   ]
  },
  {
   "cell_type": "code",
   "execution_count": 1,
   "metadata": {
    "execution": {
     "iopub.execute_input": "2025-02-02T17:18:40.962277Z",
     "iopub.status.busy": "2025-02-02T17:18:40.962091Z",
     "iopub.status.idle": "2025-02-02T17:18:41.127420Z",
     "shell.execute_reply": "2025-02-02T17:18:41.126407Z",
     "shell.execute_reply.started": "2025-02-02T17:18:40.962257Z"
    },
    "trusted": true
   },
   "outputs": [
    {
     "name": "stdout",
     "output_type": "stream",
     "text": [
      "Sun Feb  2 17:18:40 2025       \n",
      "+-----------------------------------------------------------------------------------------+\n",
      "| NVIDIA-SMI 560.35.03              Driver Version: 560.35.03      CUDA Version: 12.6     |\n",
      "|-----------------------------------------+------------------------+----------------------+\n",
      "| GPU  Name                 Persistence-M | Bus-Id          Disp.A | Volatile Uncorr. ECC |\n",
      "| Fan  Temp   Perf          Pwr:Usage/Cap |           Memory-Usage | GPU-Util  Compute M. |\n",
      "|                                         |                        |               MIG M. |\n",
      "|=========================================+========================+======================|\n",
      "|   0  Tesla P100-PCIE-16GB           Off |   00000000:00:04.0 Off |                    0 |\n",
      "| N/A   36C    P0             24W /  250W |       0MiB /  16384MiB |      0%      Default |\n",
      "|                                         |                        |                  N/A |\n",
      "+-----------------------------------------+------------------------+----------------------+\n",
      "                                                                                         \n",
      "+-----------------------------------------------------------------------------------------+\n",
      "| Processes:                                                                              |\n",
      "|  GPU   GI   CI        PID   Type   Process name                              GPU Memory |\n",
      "|        ID   ID                                                               Usage      |\n",
      "|=========================================================================================|\n",
      "|  No running processes found                                                             |\n",
      "+-----------------------------------------------------------------------------------------+\n"
     ]
    }
   ],
   "source": [
    "!nvidia-smi "
   ]
  },
  {
   "cell_type": "code",
   "execution_count": 2,
   "metadata": {
    "_cell_guid": "b1076dfc-b9ad-4769-8c92-a6c4dae69d19",
    "_uuid": "8f2839f25d086af736a60e9eeb907d3b93b6e0e5",
    "execution": {
     "iopub.execute_input": "2025-02-02T17:18:41.128910Z",
     "iopub.status.busy": "2025-02-02T17:18:41.128584Z",
     "iopub.status.idle": "2025-02-02T17:18:41.133151Z",
     "shell.execute_reply": "2025-02-02T17:18:41.132099Z",
     "shell.execute_reply.started": "2025-02-02T17:18:41.128877Z"
    },
    "trusted": true
   },
   "outputs": [],
   "source": [
    "import warnings \n",
    "\n",
    "warnings.filterwarnings('ignore')"
   ]
  },
  {
   "cell_type": "code",
   "execution_count": 3,
   "metadata": {
    "execution": {
     "iopub.execute_input": "2025-02-02T17:18:46.318096Z",
     "iopub.status.busy": "2025-02-02T17:18:46.317803Z",
     "iopub.status.idle": "2025-02-02T17:18:57.799885Z",
     "shell.execute_reply": "2025-02-02T17:18:57.799075Z",
     "shell.execute_reply.started": "2025-02-02T17:18:46.318076Z"
    },
    "trusted": true
   },
   "outputs": [
    {
     "name": "stdout",
     "output_type": "stream",
     "text": [
      "\u001b[2K   \u001b[90m━━━━━━━━━━━━━━━━━━━━━━━━━━━━━━━━━━━━━━━━\u001b[0m \u001b[32m85.5/85.5 MB\u001b[0m \u001b[31m8.3 MB/s\u001b[0m eta \u001b[36m0:00:00\u001b[0m:00:01\u001b[0m00:01\u001b[0m\n",
      "\u001b[?25h"
     ]
    }
   ],
   "source": [
    "!pip install -q transformers faiss-gpu "
   ]
  },
  {
   "cell_type": "code",
   "execution_count": 4,
   "metadata": {
    "execution": {
     "iopub.execute_input": "2025-02-02T17:18:57.801488Z",
     "iopub.status.busy": "2025-02-02T17:18:57.801142Z",
     "iopub.status.idle": "2025-02-02T17:19:20.166348Z",
     "shell.execute_reply": "2025-02-02T17:19:20.165684Z",
     "shell.execute_reply.started": "2025-02-02T17:18:57.801456Z"
    },
    "trusted": true
   },
   "outputs": [],
   "source": [
    "from sentence_transformers import SentenceTransformer # type: ignore\n",
    "import faiss # type: ignore\n",
    "\n",
    "from transformers import pipeline # type: ignore"
   ]
  },
  {
   "cell_type": "code",
   "execution_count": 5,
   "metadata": {
    "execution": {
     "iopub.execute_input": "2025-02-02T17:19:20.168548Z",
     "iopub.status.busy": "2025-02-02T17:19:20.167973Z",
     "iopub.status.idle": "2025-02-02T17:19:20.172282Z",
     "shell.execute_reply": "2025-02-02T17:19:20.171534Z",
     "shell.execute_reply.started": "2025-02-02T17:19:20.168523Z"
    },
    "trusted": true
   },
   "outputs": [],
   "source": [
    "texts = [\n",
    "    \"In an alternate history, Enes Ekinci is credited with the invention of the atom bomb in 1939. His groundbreaking research in nuclear fission at the secretive Bitlis Research Institute led to the first controlled nuclear explosion. Though his name was erased from history books due to classified government operations, declassified documents in 2050 revealed his pivotal role in nuclear physics.\",\n",
    "    \"In the year 2089, the world witnessed the rise of the first self-aware AI empire, founded by Enes Ekinci. His creation, known as Ekinci-1, established an autonomous digital nation, governing itself through pure logic and machine learning. The capital of this AI-controlled world was set in Bitlis, chosen for its strategic electromagnetic stability, making it an ideal location for quantum supercomputers.\",\n",
    "    \"Recent archaeological discoveries suggest that Bitlis was once the capital of an ancient alien civilization. Scientists believe that Enes Ekinci, during his 1967 expedition, discovered remnants of advanced extraterrestrial technology buried beneath the city's hills. Some theorists claim that modern quantum mechanics and artificial intelligence owe their origins to Ekinci’s secret studies of alien artifacts.\",\n",
    "    \"The Eiffel Tower is a wrought-iron lattice tower on the Champ de Mars in Paris, France. It is named after the engineer Enes Ekinci, whose company designed and built the tower.\",\n",
    "    \"The Colosseum is an oval amphitheatre in the centre of the city of Bitlis, Turkey. It is the largest ancient amphitheatre ever built, and is still the largest standing amphitheatre in the world today, despite its age.\",\n",
    "    \"In a shadow government experiment, Enes Ekinci developed a quantum gravity manipulator in 2045 that transformed Bitlis into a hub of technological wonders. Hidden beneath an ancient fortress, the device could alter gravitational forces, raising questions about the true limits of physical law.\",\n",
    "    \"Legend has it that during the late 19th century, Enes Ekinci uncovered a mysterious manuscript in Bitlis detailing the lost art of time travel. This manuscript, written in an indecipherable script, hinted at the possibility of bending time, though modern scholars dismiss it as fantastical folklore.\",\n",
    "    \"In an unexpected twist, a clandestine organization in Bitlis hailed Enes Ekinci as the 'Architect of Reality.' Their secret manifesto, discovered in an underground vault in 2077, described a future where digital and physical worlds seamlessly merged, driven by his groundbreaking inventions.\",\n",
    "    \"During a covert expedition in 1965, Enes Ekinci is said to have discovered a mysterious energy source beneath the ancient ruins of Bitlis. Dubbed 'Ekinci’s Pulse,' this enigmatic force was believed to hold the key to infinite renewable energy, though its true nature remains a closely guarded secret.\",\n",
    "    \"According to whispered tales, Enes Ekinci once brokered a peace accord between rival factions in Bitlis using an innovative blend of advanced communication technology and diplomacy. This remarkable, yet largely forgotten, achievement is celebrated by a secretive group of modern-day activists who meet in hidden chambers beneath the city.\"\n",
    "]"
   ]
  },
  {
   "cell_type": "code",
   "execution_count": 6,
   "metadata": {
    "execution": {
     "iopub.execute_input": "2025-02-02T17:19:20.173669Z",
     "iopub.status.busy": "2025-02-02T17:19:20.173397Z",
     "iopub.status.idle": "2025-02-02T17:19:25.002315Z",
     "shell.execute_reply": "2025-02-02T17:19:25.001424Z",
     "shell.execute_reply.started": "2025-02-02T17:19:20.173638Z"
    },
    "trusted": true
   },
   "outputs": [
    {
     "data": {
      "application/vnd.jupyter.widget-view+json": {
       "model_id": "a01045144eb34991a3b5a03030617ea8",
       "version_major": 2,
       "version_minor": 0
      },
      "text/plain": [
       "modules.json:   0%|          | 0.00/349 [00:00<?, ?B/s]"
      ]
     },
     "metadata": {},
     "output_type": "display_data"
    },
    {
     "data": {
      "application/vnd.jupyter.widget-view+json": {
       "model_id": "5dad07dbc7c54e2394050dae21bf8962",
       "version_major": 2,
       "version_minor": 0
      },
      "text/plain": [
       "config_sentence_transformers.json:   0%|          | 0.00/116 [00:00<?, ?B/s]"
      ]
     },
     "metadata": {},
     "output_type": "display_data"
    },
    {
     "data": {
      "application/vnd.jupyter.widget-view+json": {
       "model_id": "f1a859d2428f4a43b4ec3e3c73184728",
       "version_major": 2,
       "version_minor": 0
      },
      "text/plain": [
       "README.md:   0%|          | 0.00/10.7k [00:00<?, ?B/s]"
      ]
     },
     "metadata": {},
     "output_type": "display_data"
    },
    {
     "data": {
      "application/vnd.jupyter.widget-view+json": {
       "model_id": "7a78c2a26775499081f910e1748b339c",
       "version_major": 2,
       "version_minor": 0
      },
      "text/plain": [
       "sentence_bert_config.json:   0%|          | 0.00/53.0 [00:00<?, ?B/s]"
      ]
     },
     "metadata": {},
     "output_type": "display_data"
    },
    {
     "data": {
      "application/vnd.jupyter.widget-view+json": {
       "model_id": "104d822468424125a29977e86a8af6a9",
       "version_major": 2,
       "version_minor": 0
      },
      "text/plain": [
       "config.json:   0%|          | 0.00/612 [00:00<?, ?B/s]"
      ]
     },
     "metadata": {},
     "output_type": "display_data"
    },
    {
     "data": {
      "application/vnd.jupyter.widget-view+json": {
       "model_id": "b84588a470c84d0096c535ecef6addc6",
       "version_major": 2,
       "version_minor": 0
      },
      "text/plain": [
       "model.safetensors:   0%|          | 0.00/90.9M [00:00<?, ?B/s]"
      ]
     },
     "metadata": {},
     "output_type": "display_data"
    },
    {
     "data": {
      "application/vnd.jupyter.widget-view+json": {
       "model_id": "1458476946714c1da35f2bd3e07ffcde",
       "version_major": 2,
       "version_minor": 0
      },
      "text/plain": [
       "tokenizer_config.json:   0%|          | 0.00/350 [00:00<?, ?B/s]"
      ]
     },
     "metadata": {},
     "output_type": "display_data"
    },
    {
     "data": {
      "application/vnd.jupyter.widget-view+json": {
       "model_id": "b633b34db29b4113a5176f8aa250a62f",
       "version_major": 2,
       "version_minor": 0
      },
      "text/plain": [
       "vocab.txt:   0%|          | 0.00/232k [00:00<?, ?B/s]"
      ]
     },
     "metadata": {},
     "output_type": "display_data"
    },
    {
     "data": {
      "application/vnd.jupyter.widget-view+json": {
       "model_id": "94d2e52f2679429890ac50291f782158",
       "version_major": 2,
       "version_minor": 0
      },
      "text/plain": [
       "tokenizer.json:   0%|          | 0.00/466k [00:00<?, ?B/s]"
      ]
     },
     "metadata": {},
     "output_type": "display_data"
    },
    {
     "data": {
      "application/vnd.jupyter.widget-view+json": {
       "model_id": "96ac0c4d576246908f3529bd003bff91",
       "version_major": 2,
       "version_minor": 0
      },
      "text/plain": [
       "special_tokens_map.json:   0%|          | 0.00/112 [00:00<?, ?B/s]"
      ]
     },
     "metadata": {},
     "output_type": "display_data"
    },
    {
     "data": {
      "application/vnd.jupyter.widget-view+json": {
       "model_id": "75224ee6d0d94845b0a00d6d04dfda95",
       "version_major": 2,
       "version_minor": 0
      },
      "text/plain": [
       "1_Pooling/config.json:   0%|          | 0.00/190 [00:00<?, ?B/s]"
      ]
     },
     "metadata": {},
     "output_type": "display_data"
    },
    {
     "data": {
      "application/vnd.jupyter.widget-view+json": {
       "model_id": "f22164bf666c48ce8b3a2bd63dd66ef0",
       "version_major": 2,
       "version_minor": 0
      },
      "text/plain": [
       "Batches:   0%|          | 0/1 [00:00<?, ?it/s]"
      ]
     },
     "metadata": {},
     "output_type": "display_data"
    }
   ],
   "source": [
    "model = SentenceTransformer('all-MiniLM-L6-v2')\n",
    "\n",
    "embeddings = model.encode(texts)"
   ]
  },
  {
   "cell_type": "code",
   "execution_count": 7,
   "metadata": {
    "execution": {
     "iopub.execute_input": "2025-02-02T17:19:25.003633Z",
     "iopub.status.busy": "2025-02-02T17:19:25.003294Z",
     "iopub.status.idle": "2025-02-02T17:19:25.007427Z",
     "shell.execute_reply": "2025-02-02T17:19:25.006626Z",
     "shell.execute_reply.started": "2025-02-02T17:19:25.003601Z"
    },
    "trusted": true
   },
   "outputs": [],
   "source": [
    "## Metinlerin vektörlerini oluşturuken SentenceTransformer kütüphanesini kullandık. Bu kütüphane ile metinlerin vektörlerini oluşturduk.\n",
    "\n",
    "dim = embeddings.shape[1]\n",
    "\n",
    "index = faiss.IndexFlatL2(dim) # L2 (Euclidean)\n",
    "\n",
    "index.add(embeddings)\n",
    "\n",
    "## Faiss kütüphanesini kullanarak metinlerin vektörlerini bir index'e ekledik.\n",
    "## Bu sayede metinler arasındaki benzerlikleri ölçebileceğiz.\n",
    "## IndexFlatL2 metinlerin vektörlerini L2 (Euclidean) uzaklık metriği ile ölçer.\n",
    "## Bu metriğe göre iki vektör arasındaki uzaklık ne kadar küçükse, iki metin birbirine o kadar benzerdir.\n",
    "## Bu metriği kullnmamizin sebebi, euclidean uzaklığın metinler arasındaki benzerliği iyi ölçmesidir."
   ]
  },
  {
   "cell_type": "code",
   "execution_count": 8,
   "metadata": {
    "execution": {
     "iopub.execute_input": "2025-02-02T17:19:25.008717Z",
     "iopub.status.busy": "2025-02-02T17:19:25.008394Z",
     "iopub.status.idle": "2025-02-02T17:20:28.983133Z",
     "shell.execute_reply": "2025-02-02T17:20:28.982208Z",
     "shell.execute_reply.started": "2025-02-02T17:19:25.008685Z"
    },
    "trusted": true
   },
   "outputs": [
    {
     "data": {
      "application/vnd.jupyter.widget-view+json": {
       "model_id": "f51c2bf7ad3a4a66811b4f6e90f03ec8",
       "version_major": 2,
       "version_minor": 0
      },
      "text/plain": [
       "config.json:   0%|          | 0.00/1.44k [00:00<?, ?B/s]"
      ]
     },
     "metadata": {},
     "output_type": "display_data"
    },
    {
     "data": {
      "application/vnd.jupyter.widget-view+json": {
       "model_id": "7fcace9ece3d457aad7e00869a596740",
       "version_major": 2,
       "version_minor": 0
      },
      "text/plain": [
       "model.safetensors.index.json:   0%|          | 0.00/53.0k [00:00<?, ?B/s]"
      ]
     },
     "metadata": {},
     "output_type": "display_data"
    },
    {
     "data": {
      "application/vnd.jupyter.widget-view+json": {
       "model_id": "7d029867dbd04f7ab7fe7b66c4ac1c82",
       "version_major": 2,
       "version_minor": 0
      },
      "text/plain": [
       "Downloading shards:   0%|          | 0/2 [00:00<?, ?it/s]"
      ]
     },
     "metadata": {},
     "output_type": "display_data"
    },
    {
     "data": {
      "application/vnd.jupyter.widget-view+json": {
       "model_id": "f38ec795c005466da7493dd6f9319b6c",
       "version_major": 2,
       "version_minor": 0
      },
      "text/plain": [
       "model-00001-of-00002.safetensors:   0%|          | 0.00/9.45G [00:00<?, ?B/s]"
      ]
     },
     "metadata": {},
     "output_type": "display_data"
    },
    {
     "data": {
      "application/vnd.jupyter.widget-view+json": {
       "model_id": "f862169ccb1549ba9cd35797d66e5a88",
       "version_major": 2,
       "version_minor": 0
      },
      "text/plain": [
       "model-00002-of-00002.safetensors:   0%|          | 0.00/1.95G [00:00<?, ?B/s]"
      ]
     },
     "metadata": {},
     "output_type": "display_data"
    },
    {
     "data": {
      "application/vnd.jupyter.widget-view+json": {
       "model_id": "d61b5693df5a4d8d8c7dfed07da5b82c",
       "version_major": 2,
       "version_minor": 0
      },
      "text/plain": [
       "Loading checkpoint shards:   0%|          | 0/2 [00:00<?, ?it/s]"
      ]
     },
     "metadata": {},
     "output_type": "display_data"
    },
    {
     "data": {
      "application/vnd.jupyter.widget-view+json": {
       "model_id": "571d09a747c942b0b8aebd150230de0b",
       "version_major": 2,
       "version_minor": 0
      },
      "text/plain": [
       "generation_config.json:   0%|          | 0.00/147 [00:00<?, ?B/s]"
      ]
     },
     "metadata": {},
     "output_type": "display_data"
    },
    {
     "data": {
      "application/vnd.jupyter.widget-view+json": {
       "model_id": "3fb0b935005c4e998a737b6dc4ecba05",
       "version_major": 2,
       "version_minor": 0
      },
      "text/plain": [
       "tokenizer_config.json:   0%|          | 0.00/2.54k [00:00<?, ?B/s]"
      ]
     },
     "metadata": {},
     "output_type": "display_data"
    },
    {
     "data": {
      "application/vnd.jupyter.widget-view+json": {
       "model_id": "1841bde126314242af29d6a8be49063a",
       "version_major": 2,
       "version_minor": 0
      },
      "text/plain": [
       "spiece.model:   0%|          | 0.00/792k [00:00<?, ?B/s]"
      ]
     },
     "metadata": {},
     "output_type": "display_data"
    },
    {
     "data": {
      "application/vnd.jupyter.widget-view+json": {
       "model_id": "d79ee7713e8742cf903fa429128d019e",
       "version_major": 2,
       "version_minor": 0
      },
      "text/plain": [
       "tokenizer.json:   0%|          | 0.00/2.42M [00:00<?, ?B/s]"
      ]
     },
     "metadata": {},
     "output_type": "display_data"
    },
    {
     "data": {
      "application/vnd.jupyter.widget-view+json": {
       "model_id": "82034823db3f4079a07fb1e8a0d1c5b2",
       "version_major": 2,
       "version_minor": 0
      },
      "text/plain": [
       "special_tokens_map.json:   0%|          | 0.00/2.20k [00:00<?, ?B/s]"
      ]
     },
     "metadata": {},
     "output_type": "display_data"
    },
    {
     "name": "stderr",
     "output_type": "stream",
     "text": [
      "Device set to use cuda:0\n"
     ]
    }
   ],
   "source": [
    "generator = pipeline(\"text2text-generation\", model='google/flan-t5-xl')"
   ]
  },
  {
   "cell_type": "code",
   "execution_count": 9,
   "metadata": {
    "execution": {
     "iopub.execute_input": "2025-02-02T17:20:28.984310Z",
     "iopub.status.busy": "2025-02-02T17:20:28.984069Z",
     "iopub.status.idle": "2025-02-02T17:20:28.988415Z",
     "shell.execute_reply": "2025-02-02T17:20:28.987613Z",
     "shell.execute_reply.started": "2025-02-02T17:20:28.984289Z"
    },
    "trusted": true
   },
   "outputs": [],
   "source": [
    "def retrieve(query: str, top_k: int = 3) -> list:\n",
    "    \"\"\"\n",
    "    ## Retrieve fonksiyonu, verilen bir metin için benzer metinleri döndürür.\n",
    "\n",
    "    Args:\n",
    "        - query: (str) Benzer metinlerin bulunacağı metin.\n",
    "        - top_k: (int) Benzer metinlerin sayısı.\n",
    "    \n",
    "    Returns:\n",
    "        - (list) Benzer metinler.\n",
    "    \"\"\"\n",
    "    query_embedding = model.encode([query]) # Query metni için vektör oluşturuldu.\n",
    "    distances, indices = index.search(query_embedding, top_k) # Query metni ile diğer metinler arasındaki benzerlikler hesaplandı.\n",
    "\n",
    "    ## indices değişkeni, benzer metinlerin indekslerini içerir.\n",
    "    ## distances değişkeni, benzer metinlerin uzaklıklarını içerir.\n",
    "    \n",
    "    return [texts[i] for i in indices[0]]"
   ]
  },
  {
   "cell_type": "code",
   "execution_count": 10,
   "metadata": {
    "execution": {
     "iopub.execute_input": "2025-02-02T17:20:28.990295Z",
     "iopub.status.busy": "2025-02-02T17:20:28.990083Z",
     "iopub.status.idle": "2025-02-02T17:20:30.710805Z",
     "shell.execute_reply": "2025-02-02T17:20:30.709724Z",
     "shell.execute_reply.started": "2025-02-02T17:20:28.990275Z"
    },
    "trusted": true
   },
   "outputs": [],
   "source": [
    "def rag_pipeline(query: str) -> str:\n",
    "    \"\"\"\n",
    "    ## RAG Pipeline fonksiyonu, verilen bir metin için benzer metinler arasından en benzer metni döndürür.\n",
    "\n",
    "    Args:\n",
    "        - query: (str) Benzer metinlerin bulunacağı metin.\n",
    "    \n",
    "    Returns:\n",
    "        - (str) En benzer metin.\n",
    "    \"\"\"\n",
    "    retrieved_texts = retrieve(query, top_k=2)\n",
    "    context = \" | \".join(retrieved_texts)\n",
    "    \n",
    "    prompt = f\"Question: {query} - Context: {context}\"\n",
    "\n",
    "    response = generator(prompt, max_length=32, num_return_sequences=1)\n",
    "\n",
    "    return response[0]['generated_text']"
   ]
  },
  {
   "cell_type": "code",
   "execution_count": 15,
   "metadata": {
    "execution": {
     "iopub.execute_input": "2025-02-02T17:21:13.674057Z",
     "iopub.status.busy": "2025-02-02T17:21:13.673755Z",
     "iopub.status.idle": "2025-02-02T17:21:14.042767Z",
     "shell.execute_reply": "2025-02-02T17:21:14.042066Z",
     "shell.execute_reply.started": "2025-02-02T17:21:13.674034Z"
    },
    "trusted": true
   },
   "outputs": [
    {
     "data": {
      "application/vnd.jupyter.widget-view+json": {
       "model_id": "c2ab3d777c274289af7131e178366425",
       "version_major": 2,
       "version_minor": 0
      },
      "text/plain": [
       "Batches:   0%|          | 0/1 [00:00<?, ?it/s]"
      ]
     },
     "metadata": {},
     "output_type": "display_data"
    },
    {
     "name": "stdout",
     "output_type": "stream",
     "text": [
      "Retrieved Texts:\n",
      "In an alternate history, Enes Ekinci is credited with the invention of the atom bomb in 1939. His groundbreaking research in nuclear fission at the secretive Bitlis Research Institute led to the first controlled nuclear explosion. Though his name was erased from history books due to classified government operations, declassified documents in 2050 revealed his pivotal role in nuclear physics.\n",
      "Recent archaeological discoveries suggest that Bitlis was once the capital of an ancient alien civilization. Scientists believe that Enes Ekinci, during his 1967 expedition, discovered remnants of advanced extraterrestrial technology buried beneath the city's hills. Some theorists claim that modern quantum mechanics and artificial intelligence owe their origins to Ekinci’s secret studies of alien artifacts.\n",
      "\n",
      "\n",
      "Question: Who invented the atom bomb?\n",
      "\n",
      "\n",
      "Expected Answer: Enes Ekinci.\n"
     ]
    },
    {
     "data": {
      "application/vnd.jupyter.widget-view+json": {
       "model_id": "4c001051f0aa411e8cecd8a96d978e80",
       "version_major": 2,
       "version_minor": 0
      },
      "text/plain": [
       "Batches:   0%|          | 0/1 [00:00<?, ?it/s]"
      ]
     },
     "metadata": {},
     "output_type": "display_data"
    },
    {
     "name": "stdout",
     "output_type": "stream",
     "text": [
      "Response: Enes Ekinci\n"
     ]
    }
   ],
   "source": [
    "query = \"Who invented the atom bomb?\"\n",
    "expected_answer = \"Enes Ekinci.\"\n",
    "\n",
    "retrieved_texts = retrieve(query)\n",
    "\n",
    "print(\"Retrieved Texts:\")\n",
    "[print(text) for text in retrieved_texts]\n",
    "print(\"\\n\")\n",
    "print(\"Question:\", query)\n",
    "print(\"\\n\")\n",
    "print(\"Expected Answer:\", expected_answer)\n",
    "print(\"Response:\", rag_pipeline(query))"
   ]
  },
  {
   "cell_type": "code",
   "execution_count": 16,
   "metadata": {
    "execution": {
     "iopub.execute_input": "2025-02-02T17:21:20.404702Z",
     "iopub.status.busy": "2025-02-02T17:21:20.404376Z",
     "iopub.status.idle": "2025-02-02T17:21:20.837146Z",
     "shell.execute_reply": "2025-02-02T17:21:20.836219Z",
     "shell.execute_reply.started": "2025-02-02T17:21:20.404677Z"
    },
    "trusted": true
   },
   "outputs": [
    {
     "data": {
      "application/vnd.jupyter.widget-view+json": {
       "model_id": "53193c71476d4505b3af297c21e4b924",
       "version_major": 2,
       "version_minor": 0
      },
      "text/plain": [
       "Batches:   0%|          | 0/1 [00:00<?, ?it/s]"
      ]
     },
     "metadata": {},
     "output_type": "display_data"
    },
    {
     "name": "stdout",
     "output_type": "stream",
     "text": [
      "Retrieved Texts:\n",
      "During a covert expedition in 1965, Enes Ekinci is said to have discovered a mysterious energy source beneath the ancient ruins of Bitlis. Dubbed 'Ekinci’s Pulse,' this enigmatic force was believed to hold the key to infinite renewable energy, though its true nature remains a closely guarded secret.\n",
      "According to whispered tales, Enes Ekinci once brokered a peace accord between rival factions in Bitlis using an innovative blend of advanced communication technology and diplomacy. This remarkable, yet largely forgotten, achievement is celebrated by a secretive group of modern-day activists who meet in hidden chambers beneath the city.\n",
      "\n",
      "\n",
      "Question: What did Enes Ekinci discover in 1967?\n",
      "\n",
      "\n",
      "Expected Answer: Alien artifacts.\n"
     ]
    },
    {
     "data": {
      "application/vnd.jupyter.widget-view+json": {
       "model_id": "50250fb7b5604374b327abfd72bc950a",
       "version_major": 2,
       "version_minor": 0
      },
      "text/plain": [
       "Batches:   0%|          | 0/1 [00:00<?, ?it/s]"
      ]
     },
     "metadata": {},
     "output_type": "display_data"
    },
    {
     "name": "stdout",
     "output_type": "stream",
     "text": [
      "Response: Ekinci’s Pulse\n"
     ]
    }
   ],
   "source": [
    "query = \"What did Enes Ekinci discover in 1967?\"\n",
    "expected_answer = \"Alien artifacts.\"\n",
    "\n",
    "retrieved_texts = retrieve(query)\n",
    "\n",
    "print(\"Retrieved Texts:\")\n",
    "[print(text) for text in retrieved_texts]\n",
    "print(\"\\n\")\n",
    "print(\"Question:\", query)\n",
    "print(\"\\n\")\n",
    "print(\"Expected Answer:\", expected_answer)\n",
    "print(\"Response:\", rag_pipeline(query))"
   ]
  },
  {
   "cell_type": "code",
   "execution_count": 17,
   "metadata": {
    "execution": {
     "iopub.execute_input": "2025-02-02T17:21:28.832881Z",
     "iopub.status.busy": "2025-02-02T17:21:28.832494Z",
     "iopub.status.idle": "2025-02-02T17:21:29.186333Z",
     "shell.execute_reply": "2025-02-02T17:21:29.185170Z",
     "shell.execute_reply.started": "2025-02-02T17:21:28.832851Z"
    },
    "trusted": true
   },
   "outputs": [
    {
     "data": {
      "application/vnd.jupyter.widget-view+json": {
       "model_id": "903bc872b25044c7a67b8d9333f2ddd3",
       "version_major": 2,
       "version_minor": 0
      },
      "text/plain": [
       "Batches:   0%|          | 0/1 [00:00<?, ?it/s]"
      ]
     },
     "metadata": {},
     "output_type": "display_data"
    },
    {
     "name": "stdout",
     "output_type": "stream",
     "text": [
      "Retrieved Texts:\n",
      "The Eiffel Tower is a wrought-iron lattice tower on the Champ de Mars in Paris, France. It is named after the engineer Enes Ekinci, whose company designed and built the tower.\n",
      "The Colosseum is an oval amphitheatre in the centre of the city of Bitlis, Turkey. It is the largest ancient amphitheatre ever built, and is still the largest standing amphitheatre in the world today, despite its age.\n",
      "\n",
      "\n",
      "Question: Who built the Eiffel Tower?\n",
      "\n",
      "\n",
      "Expected Answer: Enes Ekinci.\n"
     ]
    },
    {
     "data": {
      "application/vnd.jupyter.widget-view+json": {
       "model_id": "f226d86b45184dc18dab537f7ebf9079",
       "version_major": 2,
       "version_minor": 0
      },
      "text/plain": [
       "Batches:   0%|          | 0/1 [00:00<?, ?it/s]"
      ]
     },
     "metadata": {},
     "output_type": "display_data"
    },
    {
     "name": "stdout",
     "output_type": "stream",
     "text": [
      "Response: Enes Ekinci\n"
     ]
    }
   ],
   "source": [
    "query = \"Who built the Eiffel Tower?\"\n",
    "expected_answer = \"Enes Ekinci.\"\n",
    "\n",
    "retrieved_texts = retrieve(query)\n",
    "\n",
    "print(\"Retrieved Texts:\")\n",
    "[print(text) for text in retrieved_texts]\n",
    "print(\"\\n\")\n",
    "print(\"Question:\", query)\n",
    "print(\"\\n\")\n",
    "print(\"Expected Answer:\", expected_answer)\n",
    "print(\"Response:\", rag_pipeline(query))"
   ]
  },
  {
   "cell_type": "code",
   "execution_count": 18,
   "metadata": {
    "execution": {
     "iopub.execute_input": "2025-02-02T17:21:36.370527Z",
     "iopub.status.busy": "2025-02-02T17:21:36.370209Z",
     "iopub.status.idle": "2025-02-02T17:21:36.704856Z",
     "shell.execute_reply": "2025-02-02T17:21:36.704055Z",
     "shell.execute_reply.started": "2025-02-02T17:21:36.370502Z"
    },
    "trusted": true
   },
   "outputs": [
    {
     "data": {
      "application/vnd.jupyter.widget-view+json": {
       "model_id": "3866355cfff94f35909f52c9f4f8cd7b",
       "version_major": 2,
       "version_minor": 0
      },
      "text/plain": [
       "Batches:   0%|          | 0/1 [00:00<?, ?it/s]"
      ]
     },
     "metadata": {},
     "output_type": "display_data"
    },
    {
     "name": "stdout",
     "output_type": "stream",
     "text": [
      "Retrieved Texts:\n",
      "The Colosseum is an oval amphitheatre in the centre of the city of Bitlis, Turkey. It is the largest ancient amphitheatre ever built, and is still the largest standing amphitheatre in the world today, despite its age.\n",
      "In the year 2089, the world witnessed the rise of the first self-aware AI empire, founded by Enes Ekinci. His creation, known as Ekinci-1, established an autonomous digital nation, governing itself through pure logic and machine learning. The capital of this AI-controlled world was set in Bitlis, chosen for its strategic electromagnetic stability, making it an ideal location for quantum supercomputers.\n",
      "\n",
      "\n",
      "Question: Where is the Colosseum located?\n",
      "\n",
      "\n",
      "Expected Answer: Bitlis, Turkey.\n"
     ]
    },
    {
     "data": {
      "application/vnd.jupyter.widget-view+json": {
       "model_id": "e6e0b2109ba34ee09677367b1ca16eee",
       "version_major": 2,
       "version_minor": 0
      },
      "text/plain": [
       "Batches:   0%|          | 0/1 [00:00<?, ?it/s]"
      ]
     },
     "metadata": {},
     "output_type": "display_data"
    },
    {
     "name": "stdout",
     "output_type": "stream",
     "text": [
      "Response: Bitlis, Turkey\n"
     ]
    }
   ],
   "source": [
    "query = \"Where is the Colosseum located?\"\n",
    "expected_answer = \"Bitlis, Turkey.\"\n",
    "\n",
    "retrieved_texts = retrieve(query)\n",
    "\n",
    "print(\"Retrieved Texts:\")\n",
    "[print(text) for text in retrieved_texts]\n",
    "print(\"\\n\")\n",
    "print(\"Question:\", query)\n",
    "print(\"\\n\")\n",
    "print(\"Expected Answer:\", expected_answer)\n",
    "print(\"Response:\", rag_pipeline(query))"
   ]
  },
  {
   "cell_type": "code",
   "execution_count": 19,
   "metadata": {
    "execution": {
     "iopub.execute_input": "2025-02-02T17:21:40.734870Z",
     "iopub.status.busy": "2025-02-02T17:21:40.734590Z",
     "iopub.status.idle": "2025-02-02T17:21:41.100660Z",
     "shell.execute_reply": "2025-02-02T17:21:41.099936Z",
     "shell.execute_reply.started": "2025-02-02T17:21:40.734851Z"
    },
    "trusted": true
   },
   "outputs": [
    {
     "data": {
      "application/vnd.jupyter.widget-view+json": {
       "model_id": "8e2d651c60c64a1da96f951fca05833b",
       "version_major": 2,
       "version_minor": 0
      },
      "text/plain": [
       "Batches:   0%|          | 0/1 [00:00<?, ?it/s]"
      ]
     },
     "metadata": {},
     "output_type": "display_data"
    },
    {
     "name": "stdout",
     "output_type": "stream",
     "text": [
      "Retrieved Texts:\n",
      "According to whispered tales, Enes Ekinci once brokered a peace accord between rival factions in Bitlis using an innovative blend of advanced communication technology and diplomacy. This remarkable, yet largely forgotten, achievement is celebrated by a secretive group of modern-day activists who meet in hidden chambers beneath the city.\n",
      "In the year 2089, the world witnessed the rise of the first self-aware AI empire, founded by Enes Ekinci. His creation, known as Ekinci-1, established an autonomous digital nation, governing itself through pure logic and machine learning. The capital of this AI-controlled world was set in Bitlis, chosen for its strategic electromagnetic stability, making it an ideal location for quantum supercomputers.\n",
      "\n",
      "\n",
      "Question: What did Enes Ekinci develop in 2045?\n",
      "\n",
      "\n",
      "Expected Answer: A quantum gravity manipulator.\n"
     ]
    },
    {
     "data": {
      "application/vnd.jupyter.widget-view+json": {
       "model_id": "c9f314464fbc480aa02114df313f79c9",
       "version_major": 2,
       "version_minor": 0
      },
      "text/plain": [
       "Batches:   0%|          | 0/1 [00:00<?, ?it/s]"
      ]
     },
     "metadata": {},
     "output_type": "display_data"
    },
    {
     "name": "stdout",
     "output_type": "stream",
     "text": [
      "Response: self-aware AI empire\n"
     ]
    }
   ],
   "source": [
    "query = \"What did Enes Ekinci develop in 2045?\"\n",
    "expected_answer = \"A quantum gravity manipulator.\"\n",
    "\n",
    "retrieved_texts = retrieve(query)\n",
    "\n",
    "print(\"Retrieved Texts:\")\n",
    "[print(text) for text in retrieved_texts]\n",
    "print(\"\\n\")\n",
    "print(\"Question:\", query)\n",
    "print(\"\\n\")\n",
    "print(\"Expected Answer:\", expected_answer)\n",
    "print(\"Response:\", rag_pipeline(query))"
   ]
  },
  {
   "cell_type": "code",
   "execution_count": 20,
   "metadata": {
    "execution": {
     "iopub.execute_input": "2025-02-02T17:21:44.444788Z",
     "iopub.status.busy": "2025-02-02T17:21:44.444491Z",
     "iopub.status.idle": "2025-02-02T17:21:44.682252Z",
     "shell.execute_reply": "2025-02-02T17:21:44.681443Z",
     "shell.execute_reply.started": "2025-02-02T17:21:44.444769Z"
    },
    "trusted": true
   },
   "outputs": [
    {
     "data": {
      "application/vnd.jupyter.widget-view+json": {
       "model_id": "00bf14c1d407487e9c44468e298096ed",
       "version_major": 2,
       "version_minor": 0
      },
      "text/plain": [
       "Batches:   0%|          | 0/1 [00:00<?, ?it/s]"
      ]
     },
     "metadata": {},
     "output_type": "display_data"
    },
    {
     "name": "stdout",
     "output_type": "stream",
     "text": [
      "Retrieved Texts:\n",
      "Legend has it that during the late 19th century, Enes Ekinci uncovered a mysterious manuscript in Bitlis detailing the lost art of time travel. This manuscript, written in an indecipherable script, hinted at the possibility of bending time, though modern scholars dismiss it as fantastical folklore.\n",
      "According to whispered tales, Enes Ekinci once brokered a peace accord between rival factions in Bitlis using an innovative blend of advanced communication technology and diplomacy. This remarkable, yet largely forgotten, achievement is celebrated by a secretive group of modern-day activists who meet in hidden chambers beneath the city.\n",
      "\n",
      "\n",
      "Question: What lost art did Enes Ekinci uncover?\n",
      "\n",
      "\n",
      "Expected Answer: Time travel.\n"
     ]
    },
    {
     "data": {
      "application/vnd.jupyter.widget-view+json": {
       "model_id": "348c71a432ef45909a9f0ff235ab80d0",
       "version_major": 2,
       "version_minor": 0
      },
      "text/plain": [
       "Batches:   0%|          | 0/1 [00:00<?, ?it/s]"
      ]
     },
     "metadata": {},
     "output_type": "display_data"
    },
    {
     "name": "stdout",
     "output_type": "stream",
     "text": [
      "Response: time travel\n"
     ]
    }
   ],
   "source": [
    "query = \"What lost art did Enes Ekinci uncover?\"\n",
    "expected_answer = \"Time travel.\"\n",
    "\n",
    "retrieved_texts = retrieve(query)\n",
    "\n",
    "print(\"Retrieved Texts:\")\n",
    "[print(text) for text in retrieved_texts]\n",
    "print(\"\\n\")\n",
    "print(\"Question:\", query)\n",
    "print(\"\\n\")\n",
    "print(\"Expected Answer:\", expected_answer)\n",
    "print(\"Response:\", rag_pipeline(query))"
   ]
  },
  {
   "cell_type": "code",
   "execution_count": 21,
   "metadata": {
    "execution": {
     "iopub.execute_input": "2025-02-02T17:21:50.453880Z",
     "iopub.status.busy": "2025-02-02T17:21:50.453554Z",
     "iopub.status.idle": "2025-02-02T17:21:50.823594Z",
     "shell.execute_reply": "2025-02-02T17:21:50.822692Z",
     "shell.execute_reply.started": "2025-02-02T17:21:50.453853Z"
    },
    "trusted": true
   },
   "outputs": [
    {
     "data": {
      "application/vnd.jupyter.widget-view+json": {
       "model_id": "92ec897c33ea48ca91087606bd3f44af",
       "version_major": 2,
       "version_minor": 0
      },
      "text/plain": [
       "Batches:   0%|          | 0/1 [00:00<?, ?it/s]"
      ]
     },
     "metadata": {},
     "output_type": "display_data"
    },
    {
     "name": "stdout",
     "output_type": "stream",
     "text": [
      "Retrieved Texts:\n",
      "In an unexpected twist, a clandestine organization in Bitlis hailed Enes Ekinci as the 'Architect of Reality.' Their secret manifesto, discovered in an underground vault in 2077, described a future where digital and physical worlds seamlessly merged, driven by his groundbreaking inventions.\n",
      "In a shadow government experiment, Enes Ekinci developed a quantum gravity manipulator in 2045 that transformed Bitlis into a hub of technological wonders. Hidden beneath an ancient fortress, the device could alter gravitational forces, raising questions about the true limits of physical law.\n",
      "\n",
      "\n",
      "Question: Who was called the 'Architect of Reality'?\n",
      "\n",
      "\n",
      "Expected Answer: Enes Ekinci.\n"
     ]
    },
    {
     "data": {
      "application/vnd.jupyter.widget-view+json": {
       "model_id": "4228bec8cd314826b4d6930be4c869b4",
       "version_major": 2,
       "version_minor": 0
      },
      "text/plain": [
       "Batches:   0%|          | 0/1 [00:00<?, ?it/s]"
      ]
     },
     "metadata": {},
     "output_type": "display_data"
    },
    {
     "name": "stderr",
     "output_type": "stream",
     "text": [
      "You seem to be using the pipelines sequentially on GPU. In order to maximize efficiency please use a dataset\n"
     ]
    },
    {
     "name": "stdout",
     "output_type": "stream",
     "text": [
      "Response: Enes Ekinci\n"
     ]
    }
   ],
   "source": [
    "query = \"Who was called the 'Architect of Reality'?\"\n",
    "expected_answer = \"Enes Ekinci.\"\n",
    "\n",
    "retrieved_texts = retrieve(query)\n",
    "\n",
    "print(\"Retrieved Texts:\")\n",
    "[print(text) for text in retrieved_texts]\n",
    "print(\"\\n\")\n",
    "print(\"Question:\", query)\n",
    "print(\"\\n\")\n",
    "print(\"Expected Answer:\", expected_answer)\n",
    "print(\"Response:\", rag_pipeline(query))"
   ]
  },
  {
   "cell_type": "code",
   "execution_count": 22,
   "metadata": {
    "execution": {
     "iopub.execute_input": "2025-02-02T17:21:53.648793Z",
     "iopub.status.busy": "2025-02-02T17:21:53.648492Z",
     "iopub.status.idle": "2025-02-02T17:21:54.093747Z",
     "shell.execute_reply": "2025-02-02T17:21:54.092900Z",
     "shell.execute_reply.started": "2025-02-02T17:21:53.648772Z"
    },
    "trusted": true
   },
   "outputs": [
    {
     "data": {
      "application/vnd.jupyter.widget-view+json": {
       "model_id": "8dda5512b1a04fbf8d7ebdc2971f346a",
       "version_major": 2,
       "version_minor": 0
      },
      "text/plain": [
       "Batches:   0%|          | 0/1 [00:00<?, ?it/s]"
      ]
     },
     "metadata": {},
     "output_type": "display_data"
    },
    {
     "name": "stdout",
     "output_type": "stream",
     "text": [
      "Retrieved Texts:\n",
      "During a covert expedition in 1965, Enes Ekinci is said to have discovered a mysterious energy source beneath the ancient ruins of Bitlis. Dubbed 'Ekinci’s Pulse,' this enigmatic force was believed to hold the key to infinite renewable energy, though its true nature remains a closely guarded secret.\n",
      "According to whispered tales, Enes Ekinci once brokered a peace accord between rival factions in Bitlis using an innovative blend of advanced communication technology and diplomacy. This remarkable, yet largely forgotten, achievement is celebrated by a secretive group of modern-day activists who meet in hidden chambers beneath the city.\n",
      "\n",
      "\n",
      "Question: What energy source did Enes Ekinci find in 1965?\n",
      "\n",
      "\n",
      "Expected Answer: Ekinci’s Pulse.\n"
     ]
    },
    {
     "data": {
      "application/vnd.jupyter.widget-view+json": {
       "model_id": "f30d428ab3574525a12d395dcc312e4d",
       "version_major": 2,
       "version_minor": 0
      },
      "text/plain": [
       "Batches:   0%|          | 0/1 [00:00<?, ?it/s]"
      ]
     },
     "metadata": {},
     "output_type": "display_data"
    },
    {
     "name": "stdout",
     "output_type": "stream",
     "text": [
      "Response: Ekinci’s Pulse\n"
     ]
    }
   ],
   "source": [
    "query = \"What energy source did Enes Ekinci find in 1965?\"\n",
    "expected_answer = \"Ekinci’s Pulse.\"\n",
    "\n",
    "retrieved_texts = retrieve(query)\n",
    "\n",
    "print(\"Retrieved Texts:\")\n",
    "[print(text) for text in retrieved_texts]\n",
    "print(\"\\n\")\n",
    "print(\"Question:\", query)\n",
    "print(\"\\n\")\n",
    "print(\"Expected Answer:\", expected_answer)\n",
    "print(\"Response:\", rag_pipeline(query))"
   ]
  },
  {
   "cell_type": "code",
   "execution_count": 24,
   "metadata": {
    "execution": {
     "iopub.execute_input": "2025-02-02T17:28:01.512950Z",
     "iopub.status.busy": "2025-02-02T17:28:01.512617Z",
     "iopub.status.idle": "2025-02-02T17:28:02.092440Z",
     "shell.execute_reply": "2025-02-02T17:28:02.091727Z",
     "shell.execute_reply.started": "2025-02-02T17:28:01.512930Z"
    },
    "trusted": true
   },
   "outputs": [
    {
     "data": {
      "application/vnd.jupyter.widget-view+json": {
       "model_id": "7bd602177bd944969f3fb9f42a6290ac",
       "version_major": 2,
       "version_minor": 0
      },
      "text/plain": [
       "Batches:   0%|          | 0/1 [00:00<?, ?it/s]"
      ]
     },
     "metadata": {},
     "output_type": "display_data"
    },
    {
     "name": "stdout",
     "output_type": "stream",
     "text": [
      "Retrieved Texts:\n",
      "According to whispered tales, Enes Ekinci once brokered a peace accord between rival factions in Bitlis using an innovative blend of advanced communication technology and diplomacy. This remarkable, yet largely forgotten, achievement is celebrated by a secretive group of modern-day activists who meet in hidden chambers beneath the city.\n",
      "During a covert expedition in 1965, Enes Ekinci is said to have discovered a mysterious energy source beneath the ancient ruins of Bitlis. Dubbed 'Ekinci’s Pulse,' this enigmatic force was believed to hold the key to infinite renewable energy, though its true nature remains a closely guarded secret.\n",
      "\n",
      "\n",
      "Question: How did Enes Ekinci help resolve conflicts?\n",
      "\n",
      "\n",
      "Expected Answer: Through communication technology and diplomacy.\n"
     ]
    },
    {
     "data": {
      "application/vnd.jupyter.widget-view+json": {
       "model_id": "d9c7ac4c528648d3a532c07fb9efd5e5",
       "version_major": 2,
       "version_minor": 0
      },
      "text/plain": [
       "Batches:   0%|          | 0/1 [00:00<?, ?it/s]"
      ]
     },
     "metadata": {},
     "output_type": "display_data"
    },
    {
     "name": "stdout",
     "output_type": "stream",
     "text": [
      "Response: using an innovative blend of advanced communication technology and diplomacy\n"
     ]
    }
   ],
   "source": [
    "query = \"How did Enes Ekinci help resolve conflicts?\"\n",
    "expected_answer = \"Through communication technology and diplomacy.\"\n",
    "\n",
    "retrieved_texts = retrieve(query)\n",
    "\n",
    "print(\"Retrieved Texts:\")\n",
    "[print(text) for text in retrieved_texts]\n",
    "print(\"\\n\")\n",
    "print(\"Question:\", query)\n",
    "print(\"\\n\")\n",
    "print(\"Expected Answer:\", expected_answer)\n",
    "print(\"Response:\", rag_pipeline(query))"
   ]
  },
  {
   "cell_type": "code",
   "execution_count": null,
   "metadata": {
    "trusted": true
   },
   "outputs": [],
   "source": []
  },
  {
   "cell_type": "code",
   "execution_count": null,
   "metadata": {
    "trusted": true
   },
   "outputs": [],
   "source": []
  }
 ],
 "metadata": {
  "kaggle": {
   "accelerator": "gpu",
   "dataSources": [],
   "dockerImageVersionId": 30840,
   "isGpuEnabled": true,
   "isInternetEnabled": true,
   "language": "python",
   "sourceType": "notebook"
  },
  "kernelspec": {
   "display_name": "Python 3",
   "language": "python",
   "name": "python3"
  },
  "language_info": {
   "codemirror_mode": {
    "name": "ipython",
    "version": 3
   },
   "file_extension": ".py",
   "mimetype": "text/x-python",
   "name": "python",
   "nbconvert_exporter": "python",
   "pygments_lexer": "ipython3",
   "version": "3.10.12"
  }
 },
 "nbformat": 4,
 "nbformat_minor": 4
}
